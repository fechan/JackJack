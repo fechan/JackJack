{
 "cells": [
  {
   "cell_type": "code",
   "execution_count": 1,
   "id": "dba82514-7f1e-4bb8-b48a-a8a31473395a",
   "metadata": {},
   "outputs": [],
   "source": [
    "import pandas as pd\n",
    "WaypointNode = pd.read_csv(\"WaypointNode.csv\", usecols=[\"ID\", \"Name_lang\", \"SafeLocID\"])\n",
    "WaypointSafeLocs = pd.read_csv(\"WaypointSafeLocs.csv\")\n",
    "WaypointEdge = pd.read_csv(\"WaypointEdge.csv\", usecols=[\"Start\", \"End\", \"PlayerConditionID\"])"
   ]
  },
  {
   "cell_type": "code",
   "execution_count": 2,
   "id": "a707a183-f048-490d-ae1b-9e0cce28a1b3",
   "metadata": {},
   "outputs": [],
   "source": [
    "WaypointNode_Loc = (pd.merge(WaypointNode, WaypointSafeLocs,\n",
    "                           how=\"inner\",\n",
    "                           left_on=\"SafeLocID\",\n",
    "                           right_on=\"ID\",\n",
    "                           suffixes=[\"\", \"_WSL\"])\n",
    "                        .drop(columns=[\"ID_WSL\"]))"
   ]
  },
  {
   "cell_type": "code",
   "execution_count": 3,
   "id": "7720f233-5f59-4ffb-9b0e-4a71792d607b",
   "metadata": {},
   "outputs": [],
   "source": [
    "waypoint_graph = (pd.merge(WaypointEdge, WaypointNode_Loc,\n",
    "                          how=\"inner\",\n",
    "                          left_on=\"Start\",\n",
    "                          right_on=\"ID\",\n",
    "                          suffixes=[\"\", \"_start\"])\n",
    "                     .drop(columns=[\"SafeLocID\", \"ID\"])\n",
    "                     .merge(WaypointNode_Loc,\n",
    "                           how=\"inner\",\n",
    "                           left_on=\"End\",\n",
    "                           right_on=\"ID\",\n",
    "                           suffixes=[\"\", \"_end\"])\n",
    "                     .drop(columns=[\"SafeLocID\", \"ID\"]))"
   ]
  },
  {
   "cell_type": "code",
   "execution_count": 4,
   "id": "3659da86-d965-4339-96df-b35d785fa221",
   "metadata": {},
   "outputs": [],
   "source": [
    "import numpy as np\n",
    "def distance3d(x1, y1, z1, x2, y2, z2):\n",
    "    return np.sqrt(np.power(x2 - x1, 2) +\n",
    "                np.power(y2 - y1, 2) +\n",
    "                np.power(z2 - z1, 2))"
   ]
  },
  {
   "cell_type": "code",
   "execution_count": 5,
   "id": "5af32879-201d-407f-8a4f-0a8288f592c9",
   "metadata": {},
   "outputs": [],
   "source": [
    "walk_graphs = []\n",
    "for MapID in WaypointNode_Loc.MapID.unique():\n",
    "    WaypointsInMap = WaypointNode_Loc[WaypointNode_Loc.MapID == MapID]\n",
    "    xjoin = pd.merge(WaypointsInMap, WaypointsInMap, how=\"cross\", suffixes=[\"_start\", \"_end\"])\n",
    "    xjoin[\"Distance\"] = distance3d(xjoin['Pos[0]_start'], xjoin['Pos[1]_start'], xjoin['Pos[2]_start'],\n",
    "                                   xjoin['Pos[0]_end'], xjoin['Pos[1]_end'], xjoin['Pos[2]_end'])\n",
    "    xjoin = xjoin.drop(columns=[\"SafeLocID_end\", \"SafeLocID_start\"])\n",
    "    xjoin = (xjoin.rename(columns={\n",
    "                    \"ID_start\": \"Start\",\n",
    "                    \"ID_end\": \"End\"\n",
    "                })\n",
    "             .rename(columns=lambda colname: colname.replace(\"_start\", \"\")))\n",
    "    walk_graphs.append(xjoin)"
   ]
  },
  {
   "cell_type": "code",
   "execution_count": 6,
   "id": "320403b6-aebf-4bd4-acf8-f0054485a32b",
   "metadata": {},
   "outputs": [],
   "source": [
    "graph = pd.concat(walk_graphs + [waypoint_graph], ignore_index=True)\n",
    "graph[\"EdgeName\"] = graph[\"Start\"].map(str) + \" \" + graph[\"End\"].map(str)"
   ]
  },
  {
   "cell_type": "raw",
   "id": "5f328ce7-f59c-4d4c-89ad-045656a39af5",
   "metadata": {},
   "source": [
    "import dijkstra as dk"
   ]
  },
  {
   "cell_type": "raw",
   "id": "c98628ba-ae1c-4357-9613-09bd6f8392e5",
   "metadata": {},
   "source": [
    "class TravelGraph(dk.dijkstra.AbstractDijkstraSPF):\n",
    "    @staticmethod\n",
    "    def get_adjacent_nodes(G, u):\n",
    "        return list(G[G.Start == u].End)\n",
    "        \n",
    "    @staticmethod\n",
    "    def get_edge_weight(G, u, v):\n",
    "        edgename = str(u) + \" \" + str(v)\n",
    "        distance = float(G[G.EdgeName == edgename].Distance.iloc[0])\n",
    "        if np.isnan(distance):\n",
    "            return 9999\n",
    "        return distance"
   ]
  },
  {
   "cell_type": "raw",
   "id": "d0c7e5ba-9ab7-4f62-848a-f59d8b81c407",
   "metadata": {},
   "source": [
    "tg = TravelGraph(graph, 292)\n",
    "path = tg.get_path(298)\n",
    "pd.DataFrame(path, columns=[\"ID\"]).merge(WaypointNode_Loc, left_on=\"ID\", right_on=\"ID\")"
   ]
  },
  {
   "cell_type": "code",
   "execution_count": 7,
   "id": "97d3f81f-c039-499d-acf8-e2e82f677ae3",
   "metadata": {},
   "outputs": [],
   "source": [
    "PlayerCondition = pd.read_csv(\"PlayerCondition.csv\", usecols=[\"ID\", \"RaceMask\"])\n",
    "ChrRaces = pd.read_csv(\"ChrRaces.csv\", usecols=[\"ID\", \"PlayableRaceBit\"])\n",
    "ChrRaces = ChrRaces[ChrRaces[\"PlayableRaceBit\"] != -1] # remove unplayable races"
   ]
  },
  {
   "cell_type": "raw",
   "id": "c6f1265f-fd10-4c04-ae28-6fc59d5ea7bd",
   "metadata": {},
   "source": [
    "def in_race_bit_mask(bitmask, raceID):\n",
    "    race_bit = ChrRaces[ChrRaces.ID == raceID].PlayableRaceBit\n",
    "    return bitmask & (2**race_bit) > 0"
   ]
  },
  {
   "cell_type": "raw",
   "id": "d03efa49-8e0e-4691-8b6f-6a2cd862516e",
   "metadata": {},
   "source": [
    "waypoint_graph = waypoint_graph.merge(PlayerCondition, how=\"inner\", left_on=\"PlayerConditionID\", right_on=\"ID\").drop(columns=[\"ID\"])"
   ]
  },
  {
   "cell_type": "raw",
   "id": "11495396-3ff2-4513-ab7e-5089c9482771",
   "metadata": {},
   "source": [
    "#waypoint_graph = waypoint_graph[waypoint_graph.apply(lambda row: in_race_bit_mask(row.RaceMask, \"Human\"), axis=1)]"
   ]
  },
  {
   "cell_type": "raw",
   "id": "baa29a7a-0702-48eb-b88d-13dcf8760ddc",
   "metadata": {},
   "source": [
    "waypoint_graph[\"CanTraverse\"] = waypoint_graph.apply(lambda row: in_race_bit_mask(row.RaceMask, 2), axis=1)\n",
    "waypoint_graph[waypoint_graph.CanTraverse].drop(columns=[\"CanTraverse\"])"
   ]
  }
 ],
 "metadata": {
  "kernelspec": {
   "display_name": "Python 3 (ipykernel)",
   "language": "python",
   "name": "python3"
  },
  "language_info": {
   "codemirror_mode": {
    "name": "ipython",
    "version": 3
   },
   "file_extension": ".py",
   "mimetype": "text/x-python",
   "name": "python",
   "nbconvert_exporter": "python",
   "pygments_lexer": "ipython3",
   "version": "3.10.2"
  }
 },
 "nbformat": 4,
 "nbformat_minor": 5
}
